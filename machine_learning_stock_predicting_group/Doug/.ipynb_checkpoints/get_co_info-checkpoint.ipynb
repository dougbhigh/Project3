{
 "cells": [
  {
   "cell_type": "raw",
   "metadata": {},
   "source": [
    "######################################################################################\n",
    "#  RUT-SOM-DATA-PT-06-2020-U-C                                          Douglas High #\n",
    "#   Project 3                                                      November 18, 2020 #\n",
    "#      > get_tickers.ipynb                                                           #\n",
    "#                                                                                    #\n",
    "#  ** code abandoned in favor of calling yahoo finance with user input of ticker     #\n",
    "#     symbol, since call for stock data will be to there.                            #\n",
    "#     last cell of pgm (section nn-Get-Symbol) being moved to get_co_info pgm. **    #\n",
    "#                                                                                    #\n",
    "#    - get ticker symbols for all american exchanges (NYSE, NASDAQ, AMEX)            #\n",
    "#    - adapted from https://github.com/shilewenuw/get_all_tickers.                   #\n",
    "######################################################################################"
   ]
  },
  {
   "cell_type": "code",
   "execution_count": null,
   "metadata": {},
   "outputs": [],
   "source": [
    "symbol lookup - https://www.marketwatch.com/tools/quotes/lookup.asp\n",
    "\n"
   ]
  },
  {
   "cell_type": "code",
   "execution_count": null,
   "metadata": {},
   "outputs": [],
   "source": [
    "################################\n",
    "#00    I/O                     #\n",
    "################################\n",
    "\n",
    "#!pip install pandas_datareader\n",
    "#!pip install get-all-tickers\n",
    "import pandas as pd\n",
    "import requests\n",
    "import io\n",
    "from pandas_datareader import DataReader"
   ]
  },
  {
   "cell_type": "code",
   "execution_count": null,
   "metadata": {},
   "outputs": [],
   "source": [
    "#########################################\n",
    "#10 Get Symbol\n",
    "#\n",
    "############################################\n",
    "def get_symbol(symbol):\n",
    "    url = \"http://d.yimg.com/autoc.finance.yahoo.com/autoc?query={}&region=1&lang=en\".format(symbol)\n",
    "\n",
    "    result = requests.get(url).json()\n",
    "\n",
    "    for x in result['ResultSet']['Result']:\n",
    "        if x['symbol'] == symbol:\n",
    "            return x['name']\n",
    "\n",
    "\n",
    "company = get_symbol(\"cxfd\")\n",
    "\n",
    "print(company)"
   ]
  },
  {
   "cell_type": "code",
   "execution_count": null,
   "metadata": {},
   "outputs": [],
   "source": []
  },
  {
   "cell_type": "code",
   "execution_count": null,
   "metadata": {},
   "outputs": [],
   "source": []
  }
 ],
 "metadata": {
  "kernelspec": {
   "display_name": "Python 3",
   "language": "python",
   "name": "python3"
  },
  "language_info": {
   "codemirror_mode": {
    "name": "ipython",
    "version": 3
   },
   "file_extension": ".py",
   "mimetype": "text/x-python",
   "name": "python",
   "nbconvert_exporter": "python",
   "pygments_lexer": "ipython3",
   "version": "3.7.6"
  }
 },
 "nbformat": 4,
 "nbformat_minor": 4
}
