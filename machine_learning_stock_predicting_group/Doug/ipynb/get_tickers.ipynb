{
 "cells": [
  {
   "cell_type": "raw",
   "metadata": {},
   "source": [
    "######################################################################################\n",
    "#  RUT-SOM-DATA-PT-06-2020-U-C                                          Douglas High #\n",
    "#   Project 3                                                      November 18, 2020 #\n",
    "#      > get_tickers.ipynb                                                           #\n",
    "#                                                                                    #\n",
    "#  ** code abandoned in favor of calling yahoo finance with user input of ticker     #\n",
    "#     symbol, since call for stock data will be to there.                            #\n",
    "#     last cell of pgm (section nn-Get-Symbol) being moved to get_co_info pgm. **    #\n",
    "#                                                                                    #\n",
    "#    - get ticker symbols for all american exchanges (NYSE, NASDAQ, AMEX)            #\n",
    "#    - adapted from https://github.com/shilewenuw/get_all_tickers.                   #\n",
    "######################################################################################"
   ]
  },
  {
   "cell_type": "markdown",
   "metadata": {},
   "source": [
    "symbol lookup - https://www.marketwatch.com/tools/quotes/lookup.asp\n",
    "\n"
   ]
  },
  {
   "cell_type": "code",
   "execution_count": 46,
   "metadata": {},
   "outputs": [
    {
     "name": "stdout",
     "output_type": "stream",
     "text": [
      "Collecting pandas_datareader\n",
      "  Downloading pandas_datareader-0.9.0-py3-none-any.whl (107 kB)\n",
      "Requirement already satisfied: pandas>=0.23 in c:\\users\\dougl\\anaconda3\\lib\\site-packages (from pandas_datareader) (1.0.1)\n",
      "Requirement already satisfied: requests>=2.19.0 in c:\\users\\dougl\\anaconda3\\lib\\site-packages (from pandas_datareader) (2.22.0)\n",
      "Requirement already satisfied: lxml in c:\\users\\dougl\\anaconda3\\lib\\site-packages (from pandas_datareader) (4.5.0)\n",
      "Requirement already satisfied: pytz>=2017.2 in c:\\users\\dougl\\anaconda3\\lib\\site-packages (from pandas>=0.23->pandas_datareader) (2019.3)\n",
      "Requirement already satisfied: python-dateutil>=2.6.1 in c:\\users\\dougl\\anaconda3\\lib\\site-packages (from pandas>=0.23->pandas_datareader) (2.8.1)\n",
      "Requirement already satisfied: numpy>=1.13.3 in c:\\users\\dougl\\anaconda3\\lib\\site-packages (from pandas>=0.23->pandas_datareader) (1.18.1)\n",
      "Requirement already satisfied: certifi>=2017.4.17 in c:\\users\\dougl\\anaconda3\\lib\\site-packages (from requests>=2.19.0->pandas_datareader) (2019.11.28)\n",
      "Requirement already satisfied: urllib3!=1.25.0,!=1.25.1,<1.26,>=1.21.1 in c:\\users\\dougl\\anaconda3\\lib\\site-packages (from requests>=2.19.0->pandas_datareader) (1.25.8)\n",
      "Requirement already satisfied: idna<2.9,>=2.5 in c:\\users\\dougl\\anaconda3\\lib\\site-packages (from requests>=2.19.0->pandas_datareader) (2.8)\n",
      "Requirement already satisfied: chardet<3.1.0,>=3.0.2 in c:\\users\\dougl\\anaconda3\\lib\\site-packages (from requests>=2.19.0->pandas_datareader) (3.0.4)\n",
      "Requirement already satisfied: six>=1.5 in c:\\users\\dougl\\anaconda3\\lib\\site-packages (from python-dateutil>=2.6.1->pandas>=0.23->pandas_datareader) (1.14.0)\n",
      "Installing collected packages: pandas-datareader\n",
      "Successfully installed pandas-datareader-0.9.0\n"
     ]
    }
   ],
   "source": [
    "!pip install pandas_datareader"
   ]
  },
  {
   "cell_type": "code",
   "execution_count": 47,
   "metadata": {},
   "outputs": [],
   "source": [
    "################################\n",
    "#00    I/O                     #\n",
    "################################\n",
    "\n",
    "#!pip install pandas_datareader\n",
    "#!pip install get-all-tickers\n",
    "import pandas as pd\n",
    "import requests\n",
    "import io\n",
    "from pandas_datareader import DataReader"
   ]
  },
  {
   "cell_type": "code",
   "execution_count": 41,
   "metadata": {},
   "outputs": [],
   "source": [
    "###########################\n",
    "#10    Subroutines        #\n",
    "#   - define functions.   #\n",
    "###########################\n",
    "\n",
    "def get_tickers(NYSE=True, NASDAQ=True, AMEX=True):\n",
    "    tickers_list = []\n",
    "    if NYSE:\n",
    "        tickers_list.extend(__exchange2list('nyse'))\n",
    "    if NASDAQ:\n",
    "        tickers_list.extend(__exchange2list('nasdaq'))\n",
    "    if AMEX:\n",
    "        tickers_list.extend(__exchange2list('amex'))\n",
    "    return tickers_list\n",
    "\n",
    "def __exchange2list(exchange):\n",
    "    df = __exchange2df(exchange)\n",
    "    # removes weird tickers\n",
    "    df_filtered = df[~df['Symbol'].str.contains(\"\\.|\\^\")]\n",
    "    return df_filtered['Symbol'].tolist()\n",
    "\n",
    "def __exchange2df(exchange):\n",
    "    response = requests.get('https://old.nasdaq.com/screening/companies-by-name.aspx', headers=headers, params=params(exchange))\n",
    "    data = io.StringIO(response.text)\n",
    "    df = pd.read_csv(data, sep=\",\")\n",
    "    return df\n",
    "\n",
    "def params(exchange):\n",
    "    return (\n",
    "        ('letter', '0'),\n",
    "        ('exchange', exchange),\n",
    "        ('render', 'download'),\n",
    "    )\n",
    "\n",
    "\n",
    "headers = {\n",
    "    'authority': 'old.nasdaq.com',\n",
    "    'upgrade-insecure-requests': '1',\n",
    "    'user-agent': 'Mozilla/5.0 (X11; Linux x86_64) AppleWebKit/537.36 (KHTML, like Gecko) Chrome/83.0.4103.116 Safari/537.36',\n",
    "    'accept': 'text/html,application/xhtml+xml,application/xml;q=0.9,image/webp,image/apng,*/*;q=0.8,application/signed-exchange;v=b3;q=0.9',\n",
    "    'sec-fetch-site': 'cross-site',\n",
    "    'sec-fetch-mode': 'navigate',\n",
    "    'sec-fetch-user': '?1',\n",
    "    'sec-fetch-dest': 'document',\n",
    "    'referer': 'https://github.com/shilewenuw/get_all_tickers/issues/2',\n",
    "    'accept-language': 'en-US,en;q=0.9',\n",
    "    'cookie': 'AKA_A2=A; NSC_W.TJUFEFGFOEFS.OBTEBR.443=ffffffffc3a0f70e45525d5f4f58455e445a4a42378b',\n",
    "}"
   ]
  },
  {
   "cell_type": "code",
   "execution_count": 42,
   "metadata": {},
   "outputs": [],
   "source": [
    "################################\n",
    "#20   Get Tickers              #\n",
    "#   - get ticker symbols.      #\n",
    "#   - sort and write to csv.   #\n",
    "################################\n",
    "\n",
    "ticker_list = get_tickers(NYSE=True, NASDAQ=True, AMEX=True)\n",
    "ticker_df = pd.DataFrame(ticker_list, columns=[\"ticker\"])\n",
    "ticker_df.sort_values([\"ticker\"], inplace=True)  \n",
    "ticker_df.to_csv('ticker_symbols.csv', index=False)"
   ]
  },
  {
   "cell_type": "code",
   "execution_count": 52,
   "metadata": {},
   "outputs": [
    {
     "name": "stdout",
     "output_type": "stream",
     "text": [
      "None\n"
     ]
    }
   ],
   "source": [
    "#########################################\n",
    "#nn Get Symbol\n",
    "#\n",
    "############################################\n",
    "def get_symbol(symbol):\n",
    "    url = \"http://d.yimg.com/autoc.finance.yahoo.com/autoc?query={}&region=1&lang=en\".format(symbol)\n",
    "\n",
    "    result = requests.get(url).json()\n",
    "\n",
    "    for x in result['ResultSet']['Result']:\n",
    "        if x['symbol'] == symbol:\n",
    "            return x['name']\n",
    "\n",
    "\n",
    "company = get_symbol(\"cxfd\")\n",
    "\n",
    "print(company)"
   ]
  }
 ],
 "metadata": {
  "kernel_info": {
   "name": "python3"
  },
  "kernelspec": {
   "display_name": "Python 3",
   "language": "python",
   "name": "python3"
  },
  "language_info": {
   "codemirror_mode": {
    "name": "ipython",
    "version": 3
   },
   "file_extension": ".py",
   "mimetype": "text/x-python",
   "name": "python",
   "nbconvert_exporter": "python",
   "pygments_lexer": "ipython3",
   "version": "3.7.6"
  },
  "nteract": {
   "version": "0.12.3"
  }
 },
 "nbformat": 4,
 "nbformat_minor": 2
}
