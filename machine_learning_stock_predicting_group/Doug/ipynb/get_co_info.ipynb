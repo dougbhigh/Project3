{
 "cells": [
  {
   "cell_type": "raw",
   "metadata": {},
   "source": [
    "######################################################################################\n",
    "#  RUT-SOM-DATA-PT-06-2020-U-C                                          Douglas High #\n",
    "#   Project 3                                                      November 18, 2020 #\n",
    "#      > get_co_info.ipynb                                                           #\n",
    "#    - verify ticker symbol and get company information.                             #\n",
    "######################################################################################"
   ]
  },
  {
   "cell_type": "code",
   "execution_count": null,
   "metadata": {},
   "outputs": [],
   "source": [
    "symbol lookup - https://www.marketwatch.com/tools/quotes/lookup.asp\n",
    "\n"
   ]
  },
  {
   "cell_type": "code",
   "execution_count": 1,
   "metadata": {},
   "outputs": [],
   "source": [
    "################################\n",
    "#00    I/O                     #\n",
    "################################\n",
    "\n",
    "#!pip install pandas_datareader\n",
    "#!pip install get-all-tickers\n",
    "import pandas as pd\n",
    "import requests\n",
    "import io\n",
    "from pandas_datareader import DataReader"
   ]
  },
  {
   "cell_type": "code",
   "execution_count": 8,
   "metadata": {},
   "outputs": [
    {
     "name": "stdout",
     "output_type": "stream",
     "text": [
      "International Business Machines Corporation\n"
     ]
    }
   ],
   "source": [
    "#########################################\n",
    "#10 Get Symbol\n",
    "#\n",
    "############################################\n",
    "def get_symbol(symbol):\n",
    "    url = \"http://d.yimg.com/autoc.finance.yahoo.com/autoc?query={}&region=1&lang=en\".format(symbol)\n",
    "\n",
    "    result = requests.get(url).json()\n",
    "\n",
    "    for x in result['ResultSet']['Result']:\n",
    "        if x['symbol'] == symbol:\n",
    "            return x['name']\n",
    "\n",
    "company = get_symbol(\"IBM\")\n",
    "\n",
    "print(company)"
   ]
  },
  {
   "cell_type": "code",
   "execution_count": null,
   "metadata": {},
   "outputs": [],
   "source": []
  },
  {
   "cell_type": "code",
   "execution_count": null,
   "metadata": {},
   "outputs": [],
   "source": []
  }
 ],
 "metadata": {
  "kernelspec": {
   "display_name": "Python 3",
   "language": "python",
   "name": "python3"
  },
  "language_info": {
   "codemirror_mode": {
    "name": "ipython",
    "version": 3
   },
   "file_extension": ".py",
   "mimetype": "text/x-python",
   "name": "python",
   "nbconvert_exporter": "python",
   "pygments_lexer": "ipython3",
   "version": "3.7.6"
  }
 },
 "nbformat": 4,
 "nbformat_minor": 4
}
